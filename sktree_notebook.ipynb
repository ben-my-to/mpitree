{
 "cells": [
  {
   "cell_type": "code",
   "execution_count": 1,
   "metadata": {},
   "outputs": [],
   "source": [
    "import numpy as np\n",
    "import pandas as pd\n",
    "\n",
    "from sktree.decision_tree import DecisionTreeClassifier\n",
    "\n",
    "# from sklearn.tree import DecisionTreeClassifier as DTC"
   ]
  },
  {
   "cell_type": "code",
   "execution_count": 2,
   "metadata": {},
   "outputs": [],
   "source": [
    "from sklearn.datasets import load_iris\n",
    "from sklearn.model_selection import train_test_split\n",
    "\n",
    "iris = load_iris(as_frame=True)\n",
    "X_train, X_test, y_train, y_test = train_test_split(\n",
    "    iris.data[[\"sepal length (cm)\", \"sepal width (cm)\"]],\n",
    "    iris.target,\n",
    "    test_size=0.2,\n",
    "    random_state=42,\n",
    ")"
   ]
  },
  {
   "cell_type": "code",
   "execution_count": 3,
   "metadata": {},
   "outputs": [],
   "source": [
    "data = pd.DataFrame(\n",
    "    {\n",
    "        \"Stream\": [\"false\", \"true\", \"true\", \"false\", \"false\", \"true\", \"true\"],\n",
    "        \"Slope\": [\n",
    "            \"steep\",\n",
    "            \"moderate\",\n",
    "            \"steep\",\n",
    "            \"steep\",\n",
    "            \"flat\",\n",
    "            \"steep\",\n",
    "            \"steep\",\n",
    "        ],\n",
    "        \"Elevation\": [\"high\", \"low\", \"medium\", \"medium\", \"high\", \"highest\", \"high\"],\n",
    "        \"Vegetation\": [\n",
    "            \"chapparal\",\n",
    "            \"riparian\",\n",
    "            \"riparian\",\n",
    "            \"chapparal\",\n",
    "            \"conifer\",\n",
    "            \"conifer\",\n",
    "            \"chapparal\",\n",
    "        ],\n",
    "    }\n",
    ")\n",
    "\n",
    "X, y = data.iloc[:, :-1], data.iloc[:, -1]"
   ]
  },
  {
   "cell_type": "code",
   "execution_count": 4,
   "metadata": {},
   "outputs": [
    {
     "name": "stdout",
     "output_type": "stream",
     "text": [
      "┌── Elevation\n",
      "│  ├── Stream [medium]\n",
      "│  │  └── class: chapparal [false]\n",
      "│  │  └── class: riparian [true]\n",
      "│  ├── Slope [high]\n",
      "│  │  └── class: conifer [flat]\n",
      "│  │  └── class: chapparal [moderate]\n",
      "│  │  └── class: chapparal [steep]\n",
      "│  └── class: conifer [highest]\n",
      "│  └── class: riparian [low]\n"
     ]
    }
   ],
   "source": [
    "clf = DecisionTreeClassifier().fit(X, y)\n",
    "print(clf)"
   ]
  },
  {
   "cell_type": "code",
   "execution_count": 5,
   "metadata": {},
   "outputs": [
    {
     "name": "stdout",
     "output_type": "stream",
     "text": [
      "['chapparal' 'riparian' 'riparian' 'chapparal' 'conifer' 'conifer'\n",
      " 'chapparal']\n"
     ]
    },
    {
     "data": {
      "text/plain": [
       "array([1., 1., 1., 1., 1., 1., 1.])"
      ]
     },
     "execution_count": 5,
     "metadata": {},
     "output_type": "execute_result"
    }
   ],
   "source": [
    "print(clf.predict(X))\n",
    "clf.predict_proba(X).round(3)"
   ]
  },
  {
   "cell_type": "code",
   "execution_count": 6,
   "metadata": {},
   "outputs": [],
   "source": [
    "data = pd.DataFrame(\n",
    "    {\n",
    "        \"Stream\": [\"false\", \"true\", \"true\", \"false\", \"false\", \"true\", \"true\"],\n",
    "        \"Slope\": [\n",
    "            \"steep\",\n",
    "            \"moderate\",\n",
    "            \"steep\",\n",
    "            \"steep\",\n",
    "            \"flat\",\n",
    "            \"steep\",\n",
    "            \"steep\",\n",
    "        ],\n",
    "        \"Elevation\": [3900, 300, 1500, 1200, 4450, 5000, 3000],\n",
    "        \"Vegetation\": [\n",
    "            \"chapparal\",\n",
    "            \"riparian\",\n",
    "            \"riparian\",\n",
    "            \"chapparal\",\n",
    "            \"conifer\",\n",
    "            \"conifer\",\n",
    "            \"chapparal\",\n",
    "        ],\n",
    "    }\n",
    ")\n",
    "\n",
    "X, y = data.iloc[:, :-1], data.iloc[:, -1]"
   ]
  },
  {
   "cell_type": "code",
   "execution_count": 7,
   "metadata": {},
   "outputs": [
    {
     "name": "stdout",
     "output_type": "stream",
     "text": [
      "[(array([['false', 'steep'],\n",
      "       ['true', 'moderate'],\n",
      "       ['true', 'steep'],\n",
      "       ['false', 'steep'],\n",
      "       ['true', 'steep']], dtype=object), array(['chapparal', 'riparian', 'riparian', 'chapparal', 'chapparal'],\n",
      "      dtype=object), 'True'), (array([['false', 'flat'],\n",
      "       ['true', 'steep']], dtype=object), array(['chapparal', 'riparian', 'riparian', 'chapparal', 'chapparal'],\n",
      "      dtype=object), 'False')]\n",
      "[(array([['false', 'steep'],\n",
      "       ['true', 'moderate'],\n",
      "       ['true', 'steep'],\n",
      "       ['false', 'steep'],\n",
      "       ['true', 'steep']], dtype=object), array(['chapparal', 'riparian', 'riparian', 'chapparal', 'chapparal'],\n",
      "      dtype=object), 'True'), (array([['false', 'flat'],\n",
      "       ['true', 'steep']], dtype=object), array(['chapparal', 'riparian', 'riparian', 'chapparal', 'chapparal'],\n",
      "      dtype=object), 'False')]\n",
      "┌── Elevation\n",
      "│  ├── Stream [< 4450.00]\n",
      "│  │  ├── Stream [true]\n",
      "│  │  │  └── class: riparian [false]\n",
      "│  │  │  └── class: riparian [true]\n",
      "│  │  └── class: chapparal [false]\n"
     ]
    }
   ],
   "source": [
    "clf = DecisionTreeClassifier().fit(X, y)\n",
    "print(clf)"
   ]
  },
  {
   "cell_type": "code",
   "execution_count": 8,
   "metadata": {},
   "outputs": [
    {
     "name": "stdout",
     "output_type": "stream",
     "text": [
      "4450\n",
      "0.6935361388961918\n",
      "0.863120568566631\n"
     ]
    }
   ],
   "source": [
    "X = X.to_numpy()\n",
    "y = y.to_numpy()\n",
    "\n",
    "\n",
    "def is_numeric_dtype(arr):\n",
    "    try:\n",
    "        arr.astype(np.float64)\n",
    "        return True\n",
    "    except ValueError:\n",
    "        return False\n",
    "\n",
    "\n",
    "split_feature_idx = 2\n",
    "\n",
    "\n",
    "def proba(X):\n",
    "    return np.unique(X, return_counts=True)[1] / len(X)\n",
    "\n",
    "\n",
    "def _entropy(y):\n",
    "    proba = np.proba(y)\n",
    "    return -np.sum(proba * np.log2(proba))\n",
    "\n",
    "\n",
    "def split_mask(X, mask):\n",
    "    return [X[mask], X[~mask]]\n",
    "\n",
    "\n",
    "np.split_mask = split_mask\n",
    "\n",
    "\n",
    "def cost(x):\n",
    "    threshold = x[-1]\n",
    "    mask = X[:, split_feature_idx] < threshold\n",
    "    levels = np.split_mask(X, mask)\n",
    "    weights = [len(l) / len(X) for l in levels]\n",
    "    impurity = [_entropy(y[mask]), _entropy(y[~mask])]\n",
    "    return np.dot(weights, impurity)\n",
    "\n",
    "\n",
    "if is_numeric_dtype(X[:, split_feature_idx]):\n",
    "    costs = np.apply_along_axis(cost, axis=1, arr=X)\n",
    "    idx = np.argmin(costs)\n",
    "    min_cost = min(costs)\n",
    "    t_hat = X[idx, -1]\n",
    "\n",
    "    print(t_hat)\n",
    "    print(min_cost)\n",
    "    print(_entropy(y) - min_cost)"
   ]
  },
  {
   "cell_type": "code",
   "execution_count": 9,
   "metadata": {},
   "outputs": [],
   "source": [
    "# from sklearn.utils.estimator_checks import check_estimator\n",
    "# check_estimator(DecisionTreeClassifier())"
   ]
  },
  {
   "cell_type": "code",
   "execution_count": 10,
   "metadata": {},
   "outputs": [],
   "source": [
    "# clf = DecisionTreeClassifier(criterion={\"max_depth\": 2}).fit(X_train, y_train)\n",
    "# print(clf)\n",
    "\n",
    "# train_score, test_score = clf.score(X_train, y_train), clf.score(X_test, y_test)\n",
    "\n",
    "# print(f\"\\nTrain-Test Accuracy: ({train_score:.2%}, {test_score:.2%})\")\n",
    "# print(f\"\\nPredict Probability: {clf.predict_prob(X_test.iloc[3]).round(3)}\")"
   ]
  },
  {
   "cell_type": "code",
   "execution_count": 11,
   "metadata": {},
   "outputs": [],
   "source": [
    "# from matplotlib.colors import ListedColormap\n",
    "# import matplotlib.patches as mpatches\n",
    "\n",
    "# step size in the mesh\n",
    "# h = 0.02\n",
    "\n",
    "# a = \"#4993c3\"\n",
    "# b = \"#e73031\"\n",
    "# c = \"#e3c471\"\n",
    "\n",
    "# aa = \"#0000ec\"\n",
    "# bb = \"#ff0000\"\n",
    "# cc = \"#bfbf00\"\n",
    "\n",
    "# # Create color maps\n",
    "# cmap_light = ListedColormap([a, b, c])\n",
    "# cmap_bold = ListedColormap([aa, bb, cc])\n",
    "\n",
    "# fig = plt.figure()\n",
    "# gs = fig.add_gridspec(2, 2, hspace=0, wspace=0)\n",
    "# (ax1, ax2), (ax3, ax4) = gs.subplots(sharex=\"col\", sharey=\"row\")\n",
    "\n",
    "# depths = [1, 3, 5, np.inf]\n",
    "# coor = [ax1, ax2, ax3, ax4]\n",
    "\n",
    "# for depth, ax in zip(depths, coor):\n",
    "#     clf = DecisionTreeClassifier(criterion={\"max_depth\": depth}).fit(X_train, y_train)\n",
    "\n",
    "#     x_min, x_max = (\n",
    "#         X_train.values[:, 0].min() - 1,\n",
    "#         X_train.values[:, 0].max() + 1,\n",
    "#     )\n",
    "#     y_min, y_max = (\n",
    "#         X_train.values[:, 1].min() - 1,\n",
    "#         X_train.values[:, 1].max() + 1,\n",
    "#     )\n",
    "\n",
    "#     xx, yy = np.meshgrid(np.arange(x_min, x_max, h), np.arange(y_min, y_max, h))\n",
    "#     X_t = pd.DataFrame(\n",
    "#         np.c_[xx.ravel(), yy.ravel()], columns=[\"sepal length (cm)\", \"sepal width (cm)\"]\n",
    "#     )\n",
    "\n",
    "#     Z = np.array([clf.predict(X_t.iloc[x]) for x in range(len(X_t))])\n",
    "#     Z = Z.reshape(xx.shape)\n",
    "\n",
    "#     ax.pcolormesh(xx, yy, Z, cmap=cmap_light)\n",
    "\n",
    "#     ax.scatter(\n",
    "#         X_train.values[:, 0],\n",
    "#         X_train.values[:, 1],\n",
    "#         c=y_train.values,\n",
    "#         cmap=cmap_bold,\n",
    "#         s=15,\n",
    "#         edgecolors=\"black\",\n",
    "#         label=f\"Depth={depth}\",\n",
    "#     )\n",
    "\n",
    "#     ax.set_xlim(xx.min(), xx.max())\n",
    "#     ax.set_ylim(yy.min(), yy.max())\n",
    "\n",
    "#     if depth == 3:\n",
    "#         patches = [\n",
    "#             mpatches.Patch(color=aa, label=\"iris setosa\"),\n",
    "#             mpatches.Patch(color=bb, label=\"iris versicolor\"),\n",
    "#             mpatches.Patch(color=cc, label=\"iris virginica\"),\n",
    "#         ]\n",
    "#         handles, labels = ax.get_legend_handles_labels()\n",
    "#         ax.legend(handles=patches, prop={\"size\": 6})\n",
    "\n",
    "# fig.supxlabel(\"sepal length (cm)\")\n",
    "# fig.supylabel(\"sepal width (cm)\")\n",
    "\n",
    "# plt.show()"
   ]
  }
 ],
 "metadata": {
  "kernelspec": {
   "display_name": "env",
   "language": "python",
   "name": "python3"
  },
  "language_info": {
   "codemirror_mode": {
    "name": "ipython",
    "version": 3
   },
   "file_extension": ".py",
   "mimetype": "text/x-python",
   "name": "python",
   "nbconvert_exporter": "python",
   "pygments_lexer": "ipython3",
   "version": "3.11.3"
  },
  "orig_nbformat": 4
 },
 "nbformat": 4,
 "nbformat_minor": 2
}
