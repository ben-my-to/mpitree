{
 "cells": [
  {
   "cell_type": "code",
   "execution_count": 3,
   "metadata": {},
   "outputs": [],
   "source": [
    "import numpy as np\n",
    "from mpitree.decision_tree import DecisionTreeClassifier\n",
    "\n",
    "np.random.seed(42)"
   ]
  },
  {
   "cell_type": "code",
   "execution_count": 4,
   "metadata": {},
   "outputs": [],
   "source": [
    "m, n = 10, 3\n",
    "n_classes = 2"
   ]
  },
  {
   "cell_type": "code",
   "execution_count": 5,
   "metadata": {},
   "outputs": [],
   "source": [
    "X = np.random.choice([f\"f{i}\" for i in range(n)], (m, n))\n",
    "y = np.random.randint(n_classes, size=m)"
   ]
  },
  {
   "cell_type": "code",
   "execution_count": 6,
   "metadata": {},
   "outputs": [
    {
     "data": {
      "text/plain": [
       "array([['f2', 'f0', 'f2'],\n",
       "       ['f2', 'f0', 'f0'],\n",
       "       ['f2', 'f1', 'f2'],\n",
       "       ['f2', 'f2', 'f2'],\n",
       "       ['f0', 'f2', 'f1'],\n",
       "       ['f0', 'f1', 'f1'],\n",
       "       ['f1', 'f1', 'f0'],\n",
       "       ['f0', 'f1', 'f1'],\n",
       "       ['f0', 'f0', 'f0'],\n",
       "       ['f2', 'f2', 'f2']], dtype='<U2')"
      ]
     },
     "execution_count": 6,
     "metadata": {},
     "output_type": "execute_result"
    }
   ],
   "source": [
    "X"
   ]
  },
  {
   "cell_type": "code",
   "execution_count": 7,
   "metadata": {},
   "outputs": [],
   "source": [
    "from sklearn.model_selection import train_test_split\n",
    "\n",
    "X_train, X_test, y_train, y_test = train_test_split(\n",
    "    X, y, test_size=0.2, random_state=42\n",
    ")"
   ]
  },
  {
   "cell_type": "code",
   "execution_count": 8,
   "metadata": {},
   "outputs": [
    {
     "name": "stdout",
     "output_type": "stream",
     "text": [
      "┌── feature_0\n",
      "│  ├── feature_1 [f0]\n",
      "│  │  └── class: 1 [f2]\n",
      "│  │  └── class: 0 [f1]\n",
      "│  │  └── class: 1 [f0]\n",
      "│  └── class: 1 [f2]\n",
      "│  └── class: 1 [f1]\n"
     ]
    }
   ],
   "source": [
    "clf = DecisionTreeClassifier()\n",
    "clf.fit(X_train, y_train)\n",
    "print(clf)"
   ]
  },
  {
   "cell_type": "code",
   "execution_count": 9,
   "metadata": {},
   "outputs": [],
   "source": [
    "# test `proba` attribute\n",
    "\n",
    "proba = clf.predict_proba(X_test)\n",
    "\n",
    "assert proba.shape[1] == n_classes\n",
    "assert ((proba >= 0.0) & (proba <= 1.0)).all()\n",
    "assert (np.isclose(np.sum(proba, axis=1), 1.0)).all()"
   ]
  },
  {
   "cell_type": "code",
   "execution_count": 10,
   "metadata": {},
   "outputs": [
    {
     "data": {
      "text/plain": [
       "0.5"
      ]
     },
     "execution_count": 10,
     "metadata": {},
     "output_type": "execute_result"
    }
   ],
   "source": [
    "clf.score(X_test, y_test)"
   ]
  },
  {
   "cell_type": "code",
   "execution_count": 11,
   "metadata": {},
   "outputs": [],
   "source": [
    "def cmp(a, b):\n",
    "    # display(a.export_graphviz())\n",
    "    print(a)\n",
    "    assert str(a).splitlines() == b.split(\"\\n\")"
   ]
  },
  {
   "cell_type": "code",
   "execution_count": 12,
   "metadata": {},
   "outputs": [
    {
     "name": "stdout",
     "output_type": "stream",
     "text": [
      "This DecisionTreeClassifier instance is not fitted yet. Call 'fit' with appropriate arguments before using this estimator.\n"
     ]
    }
   ],
   "source": [
    "# check not fitted\n",
    "from sklearn.exceptions import NotFittedError\n",
    "\n",
    "try:\n",
    "    a = DecisionTreeClassifier()\n",
    "    str(a)\n",
    "except NotFittedError as e:\n",
    "    print(e)"
   ]
  },
  {
   "cell_type": "code",
   "execution_count": 13,
   "metadata": {},
   "outputs": [
    {
     "name": "stdout",
     "output_type": "stream",
     "text": [
      "Found array with 0 feature(s) (shape=(1, 0)) while a minimum of 1 is required.\n"
     ]
    }
   ],
   "source": [
    "# empty dataset\n",
    "\n",
    "try:\n",
    "    X, y = [[]], []\n",
    "    DecisionTreeClassifier().fit(X, y)\n",
    "except ValueError as e:\n",
    "    print(e)"
   ]
  },
  {
   "cell_type": "code",
   "execution_count": 14,
   "metadata": {},
   "outputs": [
    {
     "name": "stdout",
     "output_type": "stream",
     "text": [
      "└── class: 0\n"
     ]
    }
   ],
   "source": [
    "# single instance\n",
    "\n",
    "X, y = [[\"f0\"]], np.zeros(1, dtype=int)\n",
    "\n",
    "cmp(\n",
    "    DecisionTreeClassifier().fit(X, y),\n",
    "    \"\"\"\\\n",
    "└── class: 0\"\"\",\n",
    ")"
   ]
  },
  {
   "cell_type": "code",
   "execution_count": 15,
   "metadata": {},
   "outputs": [
    {
     "name": "stdout",
     "output_type": "stream",
     "text": [
      "└── class: 0\n"
     ]
    }
   ],
   "source": [
    "# multiple instance, same label\n",
    "\n",
    "X, y = np.full((5, 1), \"f0\"), np.zeros(5, dtype=int)\n",
    "\n",
    "cmp(\n",
    "    DecisionTreeClassifier().fit(X, y),\n",
    "    \"\"\"\\\n",
    "└── class: 0\"\"\",\n",
    ")"
   ]
  },
  {
   "cell_type": "code",
   "execution_count": 16,
   "metadata": {},
   "outputs": [
    {
     "name": "stdout",
     "output_type": "stream",
     "text": [
      "└── class: 1\n"
     ]
    }
   ],
   "source": [
    "# multiple same instances\n",
    "\n",
    "X, y = np.full((3, 2), [\"f0\", \"f1\"]), [1, 1, 0]\n",
    "\n",
    "cmp(\n",
    "    DecisionTreeClassifier().fit(X, y),\n",
    "    \"\"\"\\\n",
    "└── class: 1\"\"\",\n",
    ")"
   ]
  },
  {
   "cell_type": "code",
   "execution_count": 17,
   "metadata": {},
   "outputs": [
    {
     "name": "stdout",
     "output_type": "stream",
     "text": [
      "┌── feature_0\n",
      "│  ├── feature_1 [f0]\n",
      "│  │  └── class: 1 [f2]\n",
      "│  │  └── class: 0 [f1]\n",
      "│  │  └── class: 1 [f0]\n",
      "│  └── class: 1 [f2]\n",
      "│  └── class: 1 [f1]\n"
     ]
    }
   ],
   "source": [
    "# empty partitioned dataset\n",
    "\n",
    "X, y = [[\"f0\", \"f0\"], [\"f0\", \"f1\"], [\"f1\", \"f2\"], [\"f2\", \"f1\"]], [1, 0, 1, 1]\n",
    "\n",
    "cmp(\n",
    "    DecisionTreeClassifier().fit(X, y),\n",
    "    \"\"\"\\\n",
    "┌── feature_0\n",
    "│  ├── feature_1 [f0]\n",
    "│  │  └── class: 1 [f2]\n",
    "│  │  └── class: 0 [f1]\n",
    "│  │  └── class: 1 [f0]\n",
    "│  └── class: 1 [f2]\n",
    "│  └── class: 1 [f1]\"\"\",\n",
    ")"
   ]
  },
  {
   "cell_type": "code",
   "execution_count": 18,
   "metadata": {},
   "outputs": [],
   "source": [
    "# testing depth and is_leaf\n",
    "\n",
    "X, y = [[\"f0\", \"f0\"], [\"f0\", \"f1\"], [\"f1\", \"f2\"], [\"f2\", \"f1\"]], [1, 0, 1, 1]\n",
    "\n",
    "from collections import deque\n",
    "\n",
    "\n",
    "def bfs(source):\n",
    "    queue = deque([source])\n",
    "    while queue:\n",
    "        node = queue.popleft()\n",
    "        yield node\n",
    "        queue.extend(node.children.values())\n",
    "\n",
    "\n",
    "clf = DecisionTreeClassifier().fit(X, y)\n",
    "\n",
    "for depth, node in enumerate(bfs(clf.tree_), start=1):\n",
    "    assert all(n.depth == depth for n in node.children.values())\n",
    "    assert not node.is_leaf if node.children else node.is_leaf"
   ]
  },
  {
   "cell_type": "code",
   "execution_count": 19,
   "metadata": {},
   "outputs": [
    {
     "name": "stdout",
     "output_type": "stream",
     "text": [
      "└── class: 1\n",
      "┌── feature_0\n",
      "│  └── class: 1 [f2]\n",
      "│  └── class: 1 [f1]\n",
      "│  └── class: 1 [f0]\n"
     ]
    }
   ],
   "source": [
    "X, y = [[\"f0\", \"f0\"], [\"f0\", \"f1\"], [\"f1\", \"f2\"], [\"f2\", \"f1\"]], [1, 0, 1, 1]\n",
    "\n",
    "cmp(\n",
    "    DecisionTreeClassifier(max_depth=0).fit(X, y),\n",
    "    \"\"\"\\\n",
    "└── class: 1\"\"\",\n",
    ")\n",
    "\n",
    "cmp(\n",
    "    DecisionTreeClassifier(max_depth=1).fit(X, y),\n",
    "    \"\"\"\\\n",
    "┌── feature_0\n",
    "│  └── class: 1 [f2]\n",
    "│  └── class: 1 [f1]\n",
    "│  └── class: 1 [f0]\"\"\",\n",
    ")"
   ]
  },
  {
   "cell_type": "code",
   "execution_count": 44,
   "metadata": {},
   "outputs": [
    {
     "name": "stdout",
     "output_type": "stream",
     "text": [
      "[] [0]\n",
      "[['1']] [0]\n"
     ]
    }
   ],
   "source": [
    "test_cases = [\n",
    "    (np.array([[\"0\"]]), np.array([0])),\n",
    "    (np.array([[\"0\", \"1\"]]), np.array([0])),\n",
    "]\n",
    "\n",
    "# X = np.arange(2).reshape(1, 2).astype(str)\n",
    "# y = np.arange(1)\n",
    "\n",
    "for D in test_cases:\n",
    "    X, y = D\n",
    "\n",
    "    feature_idx = 0\n",
    "    level = \"0\"\n",
    "\n",
    "    mask = X[:, feature_idx] == level\n",
    "\n",
    "    X_new = np.delete(X[mask], feature_idx, axis=1)\n",
    "    y_new = y[mask]\n",
    "\n",
    "    print(X_new, y_new)"
   ]
  },
  {
   "cell_type": "code",
   "execution_count": 20,
   "metadata": {},
   "outputs": [
    {
     "name": "stdout",
     "output_type": "stream",
     "text": [
      "┌── feature_0\n",
      "│  ├── feature_1 [f0]\n",
      "│  │  └── class: 1 [f2]\n",
      "│  │  └── class: 0 [f1]\n",
      "│  │  └── class: 1 [f0]\n",
      "│  └── class: 1 [f2]\n",
      "│  └── class: 1 [f1]\n",
      "┌── feature_0\n",
      "│  └── class: 1 [f2]\n",
      "│  └── class: 1 [f1]\n",
      "│  └── class: 1 [f0]\n"
     ]
    }
   ],
   "source": [
    "cmp(\n",
    "    DecisionTreeClassifier(min_samples_split=0).fit(X, y),\n",
    "    \"\"\"\\\n",
    "┌── feature_0\n",
    "│  ├── feature_1 [f0]\n",
    "│  │  └── class: 1 [f2]\n",
    "│  │  └── class: 0 [f1]\n",
    "│  │  └── class: 1 [f0]\n",
    "│  └── class: 1 [f2]\n",
    "│  └── class: 1 [f1]\"\"\",\n",
    ")\n",
    "\n",
    "cmp(\n",
    "    DecisionTreeClassifier(min_samples_split=4).fit(X, y),\n",
    "    \"\"\"\\\n",
    "┌── feature_0\n",
    "│  └── class: 1 [f2]\n",
    "│  └── class: 1 [f1]\n",
    "│  └── class: 1 [f0]\"\"\",\n",
    ")"
   ]
  }
 ],
 "metadata": {
  "kernelspec": {
   "display_name": "Python 3 (ipykernel)",
   "language": "python",
   "name": "python3"
  },
  "language_info": {
   "codemirror_mode": {
    "name": "ipython",
    "version": 3
   },
   "file_extension": ".py",
   "mimetype": "text/x-python",
   "name": "python",
   "nbconvert_exporter": "python",
   "pygments_lexer": "ipython3",
   "version": "3.10.11"
  }
 },
 "nbformat": 4,
 "nbformat_minor": 2
}
