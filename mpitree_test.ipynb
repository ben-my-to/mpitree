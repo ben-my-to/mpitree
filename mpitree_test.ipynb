{
 "cells": [
  {
   "cell_type": "code",
   "execution_count": 1,
   "metadata": {},
   "outputs": [],
   "source": [
    "import numpy as np\n",
    "from mpitree._node import DecisionNode\n",
    "from mpitree.decision_tree import DecisionTreeClassifier"
   ]
  },
  {
   "cell_type": "code",
   "execution_count": 2,
   "metadata": {},
   "outputs": [
    {
     "name": "stdout",
     "output_type": "stream",
     "text": [
      "[1, 2, 3]\n",
      "{1: 3, 3: 2}\n"
     ]
    },
    {
     "data": {
      "text/plain": [
       "array([3, 0, 2])"
      ]
     },
     "execution_count": 2,
     "metadata": {},
     "output_type": "execute_result"
    }
   ],
   "source": [
    "\"\"\"\n",
    "input => [c, b, c, c, a, b]\n",
    "output (with order) => [1, 2, 3]\n",
    "\n",
    "input => [c, b, c, c, b]\n",
    "output (with order) => [0, 2, 3]\n",
    "\"\"\"\n",
    "\n",
    "n_classes = [1, 2, 3]\n",
    "a = np.array([1, 3, 3, 1, 1])\n",
    "b = np.zeros(3)\n",
    "\n",
    "c = dict(zip(*np.unique(a, return_counts=True)))\n",
    "\n",
    "print(n_classes)\n",
    "print(c)\n",
    "\n",
    "np.array([c.get(i, 0) for i in n_classes])"
   ]
  },
  {
   "cell_type": "code",
   "execution_count": 3,
   "metadata": {},
   "outputs": [],
   "source": [
    "from string import ascii_lowercase\n",
    "import random\n",
    "\n",
    "\n",
    "def mat(n_samples=1, shape=(1, 1), *, n_classes=1, repeat=False):\n",
    "    m, n = shape\n",
    "    if repeat:\n",
    "        X = np.tile(np.array(list(ascii_lowercase[: n * 2])), (m, 1))\n",
    "    else:\n",
    "        X = np.array(np.split(np.array(list(ascii_lowercase[:n_samples] * 2)), m))\n",
    "\n",
    "    y = [random.choice(ascii_lowercase[:n_classes]) for _ in range(m)]\n",
    "    print(np.column_stack((X, y)))\n",
    "    return X, y"
   ]
  },
  {
   "cell_type": "code",
   "execution_count": 4,
   "metadata": {},
   "outputs": [
    {
     "name": "stdout",
     "output_type": "stream",
     "text": [
      "[['a' 'b' 'c' 'd' 'b']\n",
      " ['e' 'f' 'a' 'b' 'a']\n",
      " ['c' 'd' 'e' 'f' 'b']]\n"
     ]
    },
    {
     "data": {
      "text/plain": [
       "DecisionNode(feature=[1, 2, 3], threshold=None, branch=None, depth=0, value=array([], dtype=float64), n_samples=3)"
      ]
     },
     "execution_count": 4,
     "metadata": {},
     "output_type": "execute_result"
    }
   ],
   "source": [
    "DecisionNode(\n",
    "    feature=[1, 2, 3],\n",
    "    state=np.column_stack(mat(n_samples=6, shape=(3, 2), n_classes=2)),\n",
    ")"
   ]
  },
  {
   "cell_type": "code",
   "execution_count": 5,
   "metadata": {},
   "outputs": [
    {
     "name": "stdout",
     "output_type": "stream",
     "text": [
      "[['a' 'a' 'a']]\n",
      "└── class: a\n"
     ]
    }
   ],
   "source": [
    "X, y = mat()\n",
    "\n",
    "clf = DecisionTreeClassifier().fit(X, y)\n",
    "print(clf)"
   ]
  },
  {
   "cell_type": "code",
   "execution_count": 6,
   "metadata": {},
   "outputs": [
    {
     "name": "stdout",
     "output_type": "stream",
     "text": [
      "[['a' 'b' 'c' 'd' 'a']\n",
      " ['a' 'b' 'c' 'd' 'b']\n",
      " ['a' 'b' 'c' 'd' 'a']]\n",
      "└── class: a\n"
     ]
    }
   ],
   "source": [
    "X, y = mat(n_samples=6, shape=(3, 2), n_classes=2, repeat=True)\n",
    "\n",
    "clf = DecisionTreeClassifier().fit(X, y)\n",
    "print(clf)"
   ]
  },
  {
   "cell_type": "code",
   "execution_count": 7,
   "metadata": {},
   "outputs": [
    {
     "name": "stdout",
     "output_type": "stream",
     "text": [
      "[['a' 'b' 'c' 'd' 'a']\n",
      " ['e' 'f' 'a' 'b' 'b']\n",
      " ['c' 'd' 'e' 'f' 'a']]\n",
      "\n",
      "IG(feature_0) = H({'b', 'a'}) - rem(feature_0)\n",
      "\t = H({'b', 'a'})\n",
      "\t\t = - [0.667 0.333] * log([0.667 0.333])\n",
      "\t\t = [-0.918]\n",
      "\t = rem(feature_0)\n",
      "\t = H({'a'})\n",
      "\t\t = - [1.] * log([1.])\n",
      "\t\t = [0.0]\n",
      "\t = H({'a'})\n",
      "\t\t = - [1.] * log([1.])\n",
      "\t\t = [0.0]\n",
      "\t = H({'b'})\n",
      "\t\t = - [1.] * log([1.])\n",
      "\t\t = [0.0]\n",
      "\t = [0.333 0.333 0.333] x [-0. -0. -0.]\n",
      "\t\t = [0.0]\n",
      "\t = [0.918]\n",
      "\n",
      "IG(feature_1) = H({'b', 'a'}) - rem(feature_1)\n",
      "\t = H({'b', 'a'})\n",
      "\t\t = - [0.667 0.333] * log([0.667 0.333])\n",
      "\t\t = [-0.918]\n",
      "\t = rem(feature_1)\n",
      "\t = H({'a'})\n",
      "\t\t = - [1.] * log([1.])\n",
      "\t\t = [0.0]\n",
      "\t = H({'a'})\n",
      "\t\t = - [1.] * log([1.])\n",
      "\t\t = [0.0]\n",
      "\t = H({'b'})\n",
      "\t\t = - [1.] * log([1.])\n",
      "\t\t = [0.0]\n",
      "\t = [0.333 0.333 0.333] x [-0. -0. -0.]\n",
      "\t\t = [0.0]\n",
      "\t = [0.918]\n",
      "\n",
      "IG(feature_2) = H({'b', 'a'}) - rem(feature_2)\n",
      "\t = H({'b', 'a'})\n",
      "\t\t = - [0.667 0.333] * log([0.667 0.333])\n",
      "\t\t = [-0.918]\n",
      "\t = rem(feature_2)\n",
      "\t = H({'b'})\n",
      "\t\t = - [1.] * log([1.])\n",
      "\t\t = [0.0]\n",
      "\t = H({'a'})\n",
      "\t\t = - [1.] * log([1.])\n",
      "\t\t = [0.0]\n",
      "\t = H({'a'})\n",
      "\t\t = - [1.] * log([1.])\n",
      "\t\t = [0.0]\n",
      "\t = [0.333 0.333 0.333] x [-0. -0. -0.]\n",
      "\t\t = [0.0]\n",
      "\t = [0.918]\n",
      "\n",
      "IG(feature_3) = H({'b', 'a'}) - rem(feature_3)\n",
      "\t = H({'b', 'a'})\n",
      "\t\t = - [0.667 0.333] * log([0.667 0.333])\n",
      "\t\t = [-0.918]\n",
      "\t = rem(feature_3)\n",
      "\t = H({'b'})\n",
      "\t\t = - [1.] * log([1.])\n",
      "\t\t = [0.0]\n",
      "\t = H({'a'})\n",
      "\t\t = - [1.] * log([1.])\n",
      "\t\t = [0.0]\n",
      "\t = H({'a'})\n",
      "\t\t = - [1.] * log([1.])\n",
      "\t\t = [0.0]\n",
      "\t = [0.333 0.333 0.333] x [-0. -0. -0.]\n",
      "\t\t = [0.0]\n",
      "\t = [0.918]\n",
      "\n",
      "Split on Feature: feature_0\n",
      "--------------------------------------------------\n",
      "[['a' 'b' 'c' 'd']\n",
      " ['e' 'f' 'a' 'b']\n",
      " ['c' 'd' 'e' 'f']]\n",
      "--------------------------------------------------\n",
      "[['b' 'c' 'd' 'a']]\n",
      "+\n",
      "[['a' 'b' 'c' 'd']]\n",
      "--------------------------------------------------\n",
      "[['d' 'e' 'f' 'a']]\n",
      "+\n",
      "[['c' 'd' 'e' 'f']]\n",
      "--------------------------------------------------\n",
      "[['f' 'a' 'b' 'b']]\n",
      "+\n",
      "[['e' 'f' 'a' 'b']]\n",
      "┌── feature_0\n",
      "│  └── class: a [a]\n",
      "│  └── class: a [c]\n",
      "│  └── class: b [e]\n"
     ]
    }
   ],
   "source": [
    "X, y = mat(n_samples=6, shape=(3, 2), n_classes=2)\n",
    "\n",
    "clf = DecisionTreeClassifier().fit(X, y)\n",
    "print(clf)"
   ]
  },
  {
   "cell_type": "code",
   "execution_count": 8,
   "metadata": {},
   "outputs": [
    {
     "name": "stdout",
     "output_type": "stream",
     "text": [
      "[['a' 'b' 'c' 'd' 'e' 'f' 'b']\n",
      " ['g' 'h' 'i' 'j' 'k' 'l' 'b']\n",
      " ['m' 'n' 'o' 'a' 'b' 'c' 'b']\n",
      " ['d' 'e' 'f' 'g' 'h' 'i' 'a']\n",
      " ['j' 'k' 'l' 'm' 'n' 'o' 'a']]\n",
      "\n",
      "IG(feature_0) = H({'b', 'a'}) - rem(feature_0)\n",
      "\t = H({'b', 'a'})\n",
      "\t\t = - [0.4 0.6] * log([0.4 0.6])\n",
      "\t\t = [-0.971]\n",
      "\t = rem(feature_0)\n",
      "\t = H({'b'})\n",
      "\t\t = - [1.] * log([1.])\n",
      "\t\t = [0.0]\n",
      "\t = H({'a'})\n",
      "\t\t = - [1.] * log([1.])\n",
      "\t\t = [0.0]\n",
      "\t = H({'b'})\n",
      "\t\t = - [1.] * log([1.])\n",
      "\t\t = [0.0]\n",
      "\t = H({'a'})\n",
      "\t\t = - [1.] * log([1.])\n",
      "\t\t = [0.0]\n",
      "\t = H({'b'})\n",
      "\t\t = - [1.] * log([1.])\n",
      "\t\t = [0.0]\n",
      "\t = [0.2 0.2 0.2 0.2 0.2] x [-0. -0. -0. -0. -0.]\n",
      "\t\t = [0.0]\n",
      "\t = [0.971]\n",
      "\n",
      "IG(feature_1) = H({'b', 'a'}) - rem(feature_1)\n",
      "\t = H({'b', 'a'})\n",
      "\t\t = - [0.4 0.6] * log([0.4 0.6])\n",
      "\t\t = [-0.971]\n",
      "\t = rem(feature_1)\n",
      "\t = H({'b'})\n",
      "\t\t = - [1.] * log([1.])\n",
      "\t\t = [0.0]\n",
      "\t = H({'a'})\n",
      "\t\t = - [1.] * log([1.])\n",
      "\t\t = [0.0]\n",
      "\t = H({'b'})\n",
      "\t\t = - [1.] * log([1.])\n",
      "\t\t = [0.0]\n",
      "\t = H({'a'})\n",
      "\t\t = - [1.] * log([1.])\n",
      "\t\t = [0.0]\n",
      "\t = H({'b'})\n",
      "\t\t = - [1.] * log([1.])\n",
      "\t\t = [0.0]\n",
      "\t = [0.2 0.2 0.2 0.2 0.2] x [-0. -0. -0. -0. -0.]\n",
      "\t\t = [0.0]\n",
      "\t = [0.971]\n",
      "\n",
      "IG(feature_2) = H({'b', 'a'}) - rem(feature_2)\n",
      "\t = H({'b', 'a'})\n",
      "\t\t = - [0.4 0.6] * log([0.4 0.6])\n",
      "\t\t = [-0.971]\n",
      "\t = rem(feature_2)\n",
      "\t = H({'b'})\n",
      "\t\t = - [1.] * log([1.])\n",
      "\t\t = [0.0]\n",
      "\t = H({'a'})\n",
      "\t\t = - [1.] * log([1.])\n",
      "\t\t = [0.0]\n",
      "\t = H({'b'})\n",
      "\t\t = - [1.] * log([1.])\n",
      "\t\t = [0.0]\n",
      "\t = H({'a'})\n",
      "\t\t = - [1.] * log([1.])\n",
      "\t\t = [0.0]\n",
      "\t = H({'b'})\n",
      "\t\t = - [1.] * log([1.])\n",
      "\t\t = [0.0]\n",
      "\t = [0.2 0.2 0.2 0.2 0.2] x [-0. -0. -0. -0. -0.]\n",
      "\t\t = [0.0]\n",
      "\t = [0.971]\n",
      "\n",
      "IG(feature_3) = H({'b', 'a'}) - rem(feature_3)\n",
      "\t = H({'b', 'a'})\n",
      "\t\t = - [0.4 0.6] * log([0.4 0.6])\n",
      "\t\t = [-0.971]\n",
      "\t = rem(feature_3)\n",
      "\t = H({'b'})\n",
      "\t\t = - [1.] * log([1.])\n",
      "\t\t = [0.0]\n",
      "\t = H({'b'})\n",
      "\t\t = - [1.] * log([1.])\n",
      "\t\t = [0.0]\n",
      "\t = H({'a'})\n",
      "\t\t = - [1.] * log([1.])\n",
      "\t\t = [0.0]\n",
      "\t = H({'b'})\n",
      "\t\t = - [1.] * log([1.])\n",
      "\t\t = [0.0]\n",
      "\t = H({'a'})\n",
      "\t\t = - [1.] * log([1.])\n",
      "\t\t = [0.0]\n",
      "\t = [0.2 0.2 0.2 0.2 0.2] x [-0. -0. -0. -0. -0.]\n",
      "\t\t = [0.0]\n",
      "\t = [0.971]\n",
      "\n",
      "IG(feature_4) = H({'b', 'a'}) - rem(feature_4)\n",
      "\t = H({'b', 'a'})\n",
      "\t\t = - [0.4 0.6] * log([0.4 0.6])\n",
      "\t\t = [-0.971]\n",
      "\t = rem(feature_4)\n",
      "\t = H({'b'})\n",
      "\t\t = - [1.] * log([1.])\n",
      "\t\t = [0.0]\n",
      "\t = H({'b'})\n",
      "\t\t = - [1.] * log([1.])\n",
      "\t\t = [0.0]\n",
      "\t = H({'a'})\n",
      "\t\t = - [1.] * log([1.])\n",
      "\t\t = [0.0]\n",
      "\t = H({'b'})\n",
      "\t\t = - [1.] * log([1.])\n",
      "\t\t = [0.0]\n",
      "\t = H({'a'})\n",
      "\t\t = - [1.] * log([1.])\n",
      "\t\t = [0.0]\n",
      "\t = [0.2 0.2 0.2 0.2 0.2] x [-0. -0. -0. -0. -0.]\n",
      "\t\t = [0.0]\n",
      "\t = [0.971]\n",
      "\n",
      "IG(feature_5) = H({'b', 'a'}) - rem(feature_5)\n",
      "\t = H({'b', 'a'})\n",
      "\t\t = - [0.4 0.6] * log([0.4 0.6])\n",
      "\t\t = [-0.971]\n",
      "\t = rem(feature_5)\n",
      "\t = H({'b'})\n",
      "\t\t = - [1.] * log([1.])\n",
      "\t\t = [0.0]\n",
      "\t = H({'b'})\n",
      "\t\t = - [1.] * log([1.])\n",
      "\t\t = [0.0]\n",
      "\t = H({'a'})\n",
      "\t\t = - [1.] * log([1.])\n",
      "\t\t = [0.0]\n",
      "\t = H({'b'})\n",
      "\t\t = - [1.] * log([1.])\n",
      "\t\t = [0.0]\n",
      "\t = H({'a'})\n",
      "\t\t = - [1.] * log([1.])\n",
      "\t\t = [0.0]\n",
      "\t = [0.2 0.2 0.2 0.2 0.2] x [-0. -0. -0. -0. -0.]\n",
      "\t\t = [0.0]\n",
      "\t = [0.971]\n",
      "\n",
      "Split on Feature: feature_0\n",
      "--------------------------------------------------\n",
      "[['a' 'b' 'c' 'd' 'e' 'f']\n",
      " ['g' 'h' 'i' 'j' 'k' 'l']\n",
      " ['m' 'n' 'o' 'a' 'b' 'c']\n",
      " ['d' 'e' 'f' 'g' 'h' 'i']\n",
      " ['j' 'k' 'l' 'm' 'n' 'o']]\n",
      "--------------------------------------------------\n",
      "[['b' 'c' 'd' 'e' 'f' 'b']]\n",
      "+\n",
      "[['a' 'b' 'c' 'd' 'e' 'f']]\n",
      "--------------------------------------------------\n",
      "[['e' 'f' 'g' 'h' 'i' 'a']]\n",
      "+\n",
      "[['d' 'e' 'f' 'g' 'h' 'i']]\n",
      "--------------------------------------------------\n",
      "[['h' 'i' 'j' 'k' 'l' 'b']]\n",
      "+\n",
      "[['g' 'h' 'i' 'j' 'k' 'l']]\n",
      "--------------------------------------------------\n",
      "[['k' 'l' 'm' 'n' 'o' 'a']]\n",
      "+\n",
      "[['j' 'k' 'l' 'm' 'n' 'o']]\n",
      "--------------------------------------------------\n",
      "[['n' 'o' 'a' 'b' 'c' 'b']]\n",
      "+\n",
      "[['m' 'n' 'o' 'a' 'b' 'c']]\n",
      "┌── feature_0\n",
      "│  └── class: b [a]\n",
      "│  └── class: a [d]\n",
      "│  └── class: b [g]\n",
      "│  └── class: a [j]\n",
      "│  └── class: b [m]\n"
     ]
    },
    {
     "data": {
      "text/plain": [
       "array(['b', 'b', 'b', 'a', 'a'], dtype='<U1')"
      ]
     },
     "metadata": {},
     "output_type": "display_data"
    },
    {
     "data": {
      "text/plain": [
       "array([[0., 1.],\n",
       "       [0., 1.],\n",
       "       [0., 1.],\n",
       "       [1., 0.],\n",
       "       [1., 0.]])"
      ]
     },
     "metadata": {},
     "output_type": "display_data"
    },
    {
     "data": {
      "text/plain": [
       "1.0"
      ]
     },
     "metadata": {},
     "output_type": "display_data"
    }
   ],
   "source": [
    "X, y = mat(n_samples=15, shape=(5, 3), n_classes=2)\n",
    "\n",
    "clf = DecisionTreeClassifier().fit(X, y)\n",
    "print(clf)\n",
    "\n",
    "display(clf.predict(X))\n",
    "display(clf.predict_proba(X))\n",
    "display(clf.score(X, y))"
   ]
  },
  {
   "cell_type": "code",
   "execution_count": null,
   "metadata": {},
   "outputs": [],
   "source": []
  }
 ],
 "metadata": {
  "kernelspec": {
   "display_name": "env",
   "language": "python",
   "name": "python3"
  },
  "language_info": {
   "codemirror_mode": {
    "name": "ipython",
    "version": 3
   },
   "file_extension": ".py",
   "mimetype": "text/x-python",
   "name": "python",
   "nbconvert_exporter": "python",
   "pygments_lexer": "ipython3",
   "version": "3.10.12"
  },
  "orig_nbformat": 4
 },
 "nbformat": 4,
 "nbformat_minor": 2
}
