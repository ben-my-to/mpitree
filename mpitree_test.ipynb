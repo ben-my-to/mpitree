{
 "cells": [
  {
   "cell_type": "code",
   "execution_count": 2,
   "metadata": {},
   "outputs": [],
   "source": [
    "import numpy as np\n",
    "import matplotlib.pyplot as plt\n",
    "\n",
    "from mpitree.tree import DecisionTreeClassifier\n",
    "\n",
    "np.random.seed(42)\n"
   ]
  },
  {
   "cell_type": "code",
   "execution_count": 16,
   "metadata": {},
   "outputs": [],
   "source": [
    "from sklearn.datasets import load_iris\n",
    "iris = load_iris(as_frame=True)\n",
    "X, y = iris.data.iloc[:, :2], iris.target"
   ]
  },
  {
   "cell_type": "code",
   "execution_count": 17,
   "metadata": {},
   "outputs": [
    {
     "name": "stdout",
     "output_type": "stream",
     "text": [
      "┌── sepal length (cm)\n",
      "│  ├── sepal width (cm) [> 5.50]\n",
      "│  │  ├── sepal length (cm) [> 3.40]\n",
      "│  │  │  └── 2 [> 6.50]\n",
      "│  │  │  └── 0 [<= 6.50]\n",
      "│  │  ├── sepal length (cm) [<= 3.40]\n",
      "│  │  │  ├── sepal length (cm) [> 6.20]\n",
      "│  │  │  │  └── 2 [> 7.05]\n",
      "│  │  │  │  └── 2 [<= 7.05]\n",
      "│  │  │  ├── sepal length (cm) [<= 6.20]\n",
      "│  │  │  │  └── 1 [> 5.70]\n",
      "│  │  │  │  └── 1 [<= 5.70]\n",
      "│  ├── sepal width (cm) [<= 5.50]\n",
      "│  │  ├── sepal width (cm) [> 2.80]\n",
      "│  │  │  ├── sepal length (cm) [<= 3.00]\n",
      "│  │  │  │  └── 1 [> 5.20]\n",
      "│  │  │  │  └── 0 [<= 5.20]\n",
      "│  │  │  └── 0 [> 3.00]\n",
      "│  │  ├── sepal length (cm) [<= 2.80]\n",
      "│  │  │  ├── sepal length (cm) [<= 4.90]\n",
      "│  │  │  │  └── 1 [> 4.70]\n",
      "│  │  │  │  └── 0 [<= 4.70]\n",
      "│  │  │  └── 1 [> 4.90]\n"
     ]
    }
   ],
   "source": [
    "clf = DecisionTreeClassifier(max_depth=4).fit(X, y)\n",
    "print(clf)"
   ]
  },
  {
   "cell_type": "code",
   "execution_count": 5,
   "metadata": {},
   "outputs": [],
   "source": [
    "from sklearn.datasets import make_moons\n",
    "\n",
    "X, y = make_moons(n_samples=100, noise=0.15, random_state=42)\n",
    "\n",
    "X = np.insert(X, 0, [[1.75, -0.3]], axis=0)\n",
    "y = np.insert(y, 0, [0], axis=0)"
   ]
  },
  {
   "cell_type": "code",
   "execution_count": 6,
   "metadata": {},
   "outputs": [
    {
     "name": "stdout",
     "output_type": "stream",
     "text": [
      "┌── feature_1\n",
      "│  ├── feature_0 [> 0.02]\n",
      "│  │  ├── feature_1 [<= 1.42]\n",
      "│  │  │  ├── feature_0 [<= 0.71]\n",
      "│  │  │  │  ├── feature_0 [<= 0.31]\n",
      "│  │  │  │  │  └── 1 [> -0.40]\n",
      "│  │  │  │  │  └── 0 [<= -0.40]\n",
      "│  │  │  │  └── 0 [> 0.31]\n",
      "│  │  │  └── 0 [> 0.71]\n",
      "│  │  └── 1 [> 1.42]\n",
      "│  ├── feature_0 [<= 0.02]\n",
      "│  │  ├── feature_1 [> -0.51]\n",
      "│  │  │  ├── feature_1 [> -0.31]\n",
      "│  │  │  │  ├── feature_1 [> -0.29]\n",
      "│  │  │  │  │  ├── feature_1 [<= -0.12]\n",
      "│  │  │  │  │  │  └── 0 [> -0.14]\n",
      "│  │  │  │  │  │  └── 1 [<= -0.14]\n",
      "│  │  │  │  │  └── 1 [> -0.12]\n",
      "│  │  │  │  └── 0 [<= -0.29]\n",
      "│  │  │  └── 1 [<= -0.31]\n",
      "│  │  └── 0 [<= -0.51]\n"
     ]
    }
   ],
   "source": [
    "clf = DecisionTreeClassifier().fit(X, y)\n",
    "print(clf)"
   ]
  },
  {
   "cell_type": "code",
   "execution_count": 7,
   "metadata": {},
   "outputs": [
    {
     "data": {
      "image/png": "[encoded data removed]",
      "text/plain": [
       "<Figure size 640x480 with 1 Axes>"
      ]
     },
     "metadata": {},
     "output_type": "display_data"
    }
   ],
   "source": [
    "n_classes = np.unique(y)\n",
    "colors = \"w\", \"darkgray\"\n",
    "markers = \"s\", \"^\"\n",
    "\n",
    "plt.figure()\n",
    "\n",
    "x_min, x_max = X[:, 0].min() - 1, X[:, 0].max() + 1\n",
    "y_min, y_max = X[:, 1].min() - 1, X[:, 1].max() + 1\n",
    "\n",
    "xx, yy = np.meshgrid(np.arange(x_min, x_max, 0.01), np.arange(y_min, y_max, 0.01))\n",
    "\n",
    "Z = clf.predict(np.c_[xx.ravel(), yy.ravel()]).reshape(xx.shape)\n",
    "plt.contourf(xx, yy, Z, alpha=0.4, cmap=\"Greys\")\n",
    "\n",
    "for t, c, marker in zip(n_classes, colors, markers):\n",
    "    plt.scatter(\n",
    "        X[y == t, 0],\n",
    "        X[y == t, 1],\n",
    "        c=c,\n",
    "        s=30,\n",
    "        linewidth=1.2,\n",
    "        marker=marker,\n",
    "        edgecolors=\"k\",\n",
    "        label=t,\n",
    "    )\n",
    "\n",
    "plt.legend(title=\"Class\", loc=\"upper left\", shadow=True)\n",
    "plt.show()"
   ]
  }
 ],
 "metadata": {
  "kernelspec": {
   "display_name": "Python 3 (ipykernel)",
   "language": "python",
   "name": "python3"
  },
  "language_info": {
   "codemirror_mode": {
    "name": "ipython",
    "version": 3
   },
   "file_extension": ".py",
   "mimetype": "text/x-python",
   "name": "python",
   "nbconvert_exporter": "python",
   "pygments_lexer": "ipython3",
   "version": "3.10.11"
  }
 },
 "nbformat": 4,
 "nbformat_minor": 2
}
