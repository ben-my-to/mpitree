{
 "cells": [
  {
   "cell_type": "code",
   "execution_count": 1,
   "metadata": {},
   "outputs": [],
   "source": [
    "import numpy as np\n",
    "import pandas as pd\n",
    "import matplotlib.pyplot as plt\n",
    "\n",
    "from mpitree.tree import DecisionTreeClassifier\n",
    "\n",
    "np.random.seed(42)"
   ]
  },
  {
   "cell_type": "code",
   "execution_count": 2,
   "metadata": {},
   "outputs": [],
   "source": [
    "def test(X, y):\n",
    "    clf = DecisionTreeClassifier()\n",
    "    clf.fit(X, y)\n",
    "    print(clf)"
   ]
  },
  {
   "cell_type": "code",
   "execution_count": 3,
   "metadata": {},
   "outputs": [],
   "source": [
    "X = np.array(\n",
    "    [\n",
    "        [\"false\", \"true\", \"true\", \"false\", \"false\", \"true\", \"true\"],\n",
    "        [\"steep\", \"moderate\", \"steep\", \"steep\", \"flat\", \"steep\", \"steep\"],\n",
    "        [\"high\", \"low\", \"medium\", \"medium\", \"high\", \"highest\", \"high\"],\n",
    "    ]\n",
    ").T\n",
    "\n",
    "y = np.array(\n",
    "    [\n",
    "        \"chapparal\",\n",
    "        \"riparian\",\n",
    "        \"riparian\",\n",
    "        \"chapparal\",\n",
    "        \"conifer\",\n",
    "        \"conifer\",\n",
    "        \"chapparal\",\n",
    "    ]\n",
    ")\n",
    "\n",
    "X = pd.DataFrame(X, columns=[\"Stream\", \"Slope\", \"Elevation\"])\n",
    "y = pd.Series(y)"
   ]
  },
  {
   "cell_type": "code",
   "execution_count": 4,
   "metadata": {},
   "outputs": [
    {
     "name": "stdout",
     "output_type": "stream",
     "text": [
      "┌── Elevation\n",
      "│  ├── Stream [medium]\n",
      "│  │  └── class: riparian [true]\n",
      "│  │  └── class: chapparal [false]\n",
      "│  ├── Slope [high]\n",
      "│  │  └── class: chapparal [steep]\n",
      "│  │  └── class: chapparal [moderate]\n",
      "│  │  └── class: conifer [flat]\n",
      "│  └── class: riparian [low]\n",
      "│  └── class: conifer [highest]\n"
     ]
    }
   ],
   "source": [
    "test(X, y)"
   ]
  },
  {
   "cell_type": "code",
   "execution_count": 5,
   "metadata": {},
   "outputs": [],
   "source": [
    "X = np.array(\n",
    "    [\n",
    "        [\"false\", \"true\", \"true\", \"false\", \"false\", \"true\", \"true\"],\n",
    "        [\"steep\", \"moderate\", \"steep\", \"steep\", \"flat\", \"steep\", \"steep\"],\n",
    "        [3900.0, 300.0, 1500.0, 1200.0, 4450.0, 5000.0, 3000.0],\n",
    "    ]\n",
    ").T\n",
    "\n",
    "y = np.array(\n",
    "    [\n",
    "        \"chapparal\",\n",
    "        \"riparian\",\n",
    "        \"riparian\",\n",
    "        \"chapparal\",\n",
    "        \"conifer\",\n",
    "        \"conifer\",\n",
    "        \"chapparal\",\n",
    "    ]\n",
    ")\n",
    "\n",
    "X = pd.DataFrame(X, columns=[\"Stream\", \"Slope\", \"Elevation\"])\n",
    "y = pd.Series(y)"
   ]
  },
  {
   "cell_type": "code",
   "execution_count": 6,
   "metadata": {},
   "outputs": [
    {
     "name": "stdout",
     "output_type": "stream",
     "text": [
      "┌── Elevation\n",
      "│  ├── Stream [<= 4450.00]\n",
      "│  │  ├── Elevation [true]\n",
      "│  │  │  └── class: chapparal [> 3000.00]\n",
      "│  │  │  └── class: riparian [<= 3000.00]\n",
      "│  │  └── class: chapparal [false]\n",
      "│  └── class: conifer [> 4450.00]\n"
     ]
    }
   ],
   "source": [
    "test(X, y)"
   ]
  }
 ],
 "metadata": {
  "kernelspec": {
   "display_name": "Python 3 (ipykernel)",
   "language": "python",
   "name": "python3"
  },
  "language_info": {
   "codemirror_mode": {
    "name": "ipython",
    "version": 3
   },
   "file_extension": ".py",
   "mimetype": "text/x-python",
   "name": "python",
   "nbconvert_exporter": "python",
   "pygments_lexer": "ipython3",
   "version": "3.10.11"
  }
 },
 "nbformat": 4,
 "nbformat_minor": 4
}
