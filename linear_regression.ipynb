{
 "cells": [
  {
   "cell_type": "code",
   "execution_count": 1,
   "metadata": {},
   "outputs": [],
   "source": [
    "import numpy as np\n",
    "import pandas as pd\n",
    "import matplotlib.pyplot as plt\n",
    "\n",
    "np.random.seed(42)\n",
    "plt.rcParams[\"font.family\"] = \"monospace\""
   ]
  },
  {
   "cell_type": "markdown",
   "metadata": {},
   "source": [
    "$$ t = f(x;w_0, w_1) = w_0 + w_1x $$\n",
    "$$ \\widehat{w_0} = \\bar{t} - w_1\\bar{x} $$\n",
    "$$ \\widehat{w_1} = \\frac{\\overline{xt} - \\bar{x}\\bar{t}}{\\overline{x^2} - (\\bar{x})^2} $$"
   ]
  },
  {
   "cell_type": "code",
   "execution_count": 2,
   "metadata": {},
   "outputs": [],
   "source": [
    "m = 100\n",
    "X = 2 * np.random.rand(m, 1)\n",
    "y = 4 + 3 * X + np.random.randn(m, 1)\n"
   ]
  },
  {
   "cell_type": "code",
   "execution_count": 3,
   "metadata": {},
   "outputs": [
    {
     "data": {
      "text/html": [
       "<div>\n",
       "<style scoped>\n",
       "    .dataframe tbody tr th:only-of-type {\n",
       "        vertical-align: middle;\n",
       "    }\n",
       "\n",
       "    .dataframe tbody tr th {\n",
       "        vertical-align: top;\n",
       "    }\n",
       "\n",
       "    .dataframe thead th {\n",
       "        text-align: right;\n",
       "    }\n",
       "</style>\n",
       "<table border=\"1\" class=\"dataframe\">\n",
       "  <thead>\n",
       "    <tr style=\"text-align: right;\">\n",
       "      <th></th>\n",
       "      <th>x_n</th>\n",
       "      <th>t_n</th>\n",
       "      <th>x_n * t_n</th>\n",
       "      <th>x_n^2</th>\n",
       "    </tr>\n",
       "  </thead>\n",
       "  <tbody>\n",
       "    <tr>\n",
       "      <th>0</th>\n",
       "      <td>0.7491</td>\n",
       "      <td>6.3343</td>\n",
       "      <td>4.7449</td>\n",
       "      <td>0.561</td>\n",
       "    </tr>\n",
       "    <tr>\n",
       "      <th>1</th>\n",
       "      <td>1.9014</td>\n",
       "      <td>9.4053</td>\n",
       "      <td>17.8835</td>\n",
       "      <td>3.615</td>\n",
       "    </tr>\n",
       "    <tr>\n",
       "      <th>2</th>\n",
       "      <td>1.4640</td>\n",
       "      <td>8.4837</td>\n",
       "      <td>12.4201</td>\n",
       "      <td>2.143</td>\n",
       "    </tr>\n",
       "    <tr>\n",
       "      <th>3</th>\n",
       "      <td>1.1973</td>\n",
       "      <td>5.6044</td>\n",
       "      <td>6.7102</td>\n",
       "      <td>1.434</td>\n",
       "    </tr>\n",
       "    <tr>\n",
       "      <th>4</th>\n",
       "      <td>0.3120</td>\n",
       "      <td>4.7164</td>\n",
       "      <td>1.4717</td>\n",
       "      <td>0.097</td>\n",
       "    </tr>\n",
       "    <tr>\n",
       "      <th>...</th>\n",
       "      <td>...</td>\n",
       "      <td>...</td>\n",
       "      <td>...</td>\n",
       "      <td>...</td>\n",
       "    </tr>\n",
       "    <tr>\n",
       "      <th>95</th>\n",
       "      <td>0.9876</td>\n",
       "      <td>6.1470</td>\n",
       "      <td>6.0707</td>\n",
       "      <td>0.975</td>\n",
       "    </tr>\n",
       "    <tr>\n",
       "      <th>96</th>\n",
       "      <td>1.0455</td>\n",
       "      <td>7.0593</td>\n",
       "      <td>7.3803</td>\n",
       "      <td>1.093</td>\n",
       "    </tr>\n",
       "    <tr>\n",
       "      <th>97</th>\n",
       "      <td>0.8551</td>\n",
       "      <td>6.9064</td>\n",
       "      <td>5.9055</td>\n",
       "      <td>0.731</td>\n",
       "    </tr>\n",
       "    <tr>\n",
       "      <th>98</th>\n",
       "      <td>0.0508</td>\n",
       "      <td>4.4292</td>\n",
       "      <td>0.2252</td>\n",
       "      <td>0.003</td>\n",
       "    </tr>\n",
       "    <tr>\n",
       "      <th>99</th>\n",
       "      <td>0.2158</td>\n",
       "      <td>5.4745</td>\n",
       "      <td>1.1813</td>\n",
       "      <td>0.047</td>\n",
       "    </tr>\n",
       "  </tbody>\n",
       "</table>\n",
       "<p>100 rows × 4 columns</p>\n",
       "</div>"
      ],
      "text/plain": [
       "       x_n     t_n  x_n * t_n  x_n^2\n",
       "0   0.7491  6.3343     4.7449  0.561\n",
       "1   1.9014  9.4053    17.8835  3.615\n",
       "2   1.4640  8.4837    12.4201  2.143\n",
       "3   1.1973  5.6044     6.7102  1.434\n",
       "4   0.3120  4.7164     1.4717  0.097\n",
       "..     ...     ...        ...    ...\n",
       "95  0.9876  6.1470     6.0707  0.975\n",
       "96  1.0455  7.0593     7.3803  1.093\n",
       "97  0.8551  6.9064     5.9055  0.731\n",
       "98  0.0508  4.4292     0.2252  0.003\n",
       "99  0.2158  5.4745     1.1813  0.047\n",
       "\n",
       "[100 rows x 4 columns]"
      ]
     },
     "execution_count": 3,
     "metadata": {},
     "output_type": "execute_result"
    }
   ],
   "source": [
    "x, t = X.ravel(), y.ravel()\n",
    "\n",
    "pd.DataFrame(\n",
    "    {\n",
    "        \"x_n\": x.round(4),\n",
    "        \"t_n\": t.round(4),\n",
    "        \"x_n * t_n\": (x * t).round(4),\n",
    "        \"x_n^2\": (x**2).round(3),\n",
    "    },\n",
    ")\n"
   ]
  },
  {
   "cell_type": "code",
   "execution_count": 4,
   "metadata": {},
   "outputs": [],
   "source": [
    "x_bar = np.mean(x)\n",
    "t_bar = np.mean(t)\n",
    "xt_bar = np.mean(x * t)\n",
    "xx_bar = np.mean(x**2)\n",
    "\n",
    "w_1 = (xt_bar - x_bar * t_bar) / (xx_bar - x_bar**2)\n",
    "w_0 = t_bar - w_1 * x_bar"
   ]
  },
  {
   "cell_type": "code",
   "execution_count": 7,
   "metadata": {},
   "outputs": [
    {
     "name": "stdout",
     "output_type": "stream",
     "text": [
      "w_1 = (7.4 - 0.9 * 6.8) / (1.2 - 0.9 * 0.9) = 1.0 / 0.350460 = 2.8\n",
      "w_0 = 6.8 - 2.8 * 0.9 = 4.2\n",
      "f(x; w_0, w_1) = w_0 + w_1 * x = 4.2 + 2.8 * x\n"
     ]
    }
   ],
   "source": [
    "print(\n",
    "    \"w_1\",\n",
    "    f\"({xt_bar:.1f} - {x_bar:.1f} * {t_bar:.1f}) / ({xx_bar:.1f} - {x_bar:.1f} * {x_bar:.1f})\",\n",
    "    f\"{(xt_bar - x_bar * t_bar):.1f} / {(xx_bar - x_bar ** 2):1f}\",\n",
    "    f\"{w_1:.1f}\",\n",
    "    sep=\" = \",\n",
    ")\n",
    "\n",
    "print(\"w_0\", f\"{t_bar:.1f} - {w_1:.1f} * {x_bar:.1f}\", f\"{w_0:.1f}\", sep=\" = \")\n",
    "\n",
    "print(\"f(x; w_0, w_1)\", \"w_0 + w_1 * x\", f\"{w_0:.1f} + {w_1:.1f} * x\", sep=\" = \")"
   ]
  },
  {
   "cell_type": "code",
   "execution_count": 6,
   "metadata": {},
   "outputs": [
    {
     "data": {
      "image/png": "[encoded data removed]",
      "text/plain": [
       "<Figure size 600x400 with 1 Axes>"
      ]
     },
     "metadata": {},
     "output_type": "display_data"
    }
   ],
   "source": [
    "x_min, x_max = x.min() - 0.01, x.max() + 0.01\n",
    "y_min, y_max = t.min() - 0.01, t.max() + 0.01\n",
    "\n",
    "x_test = np.linspace(x_min, x_max, 10)[:, np.newaxis]\n",
    "t_pred = w_0 + w_1 * x_test\n",
    "\n",
    "plt.figure(figsize=(6, 4))\n",
    "\n",
    "plt.plot(X, y, \"k.\", zorder=2)\n",
    "plt.plot(x_test, t_pred, \"r-\", label=f\"$t$ = {w_0:.1f} + {w_1:.1f}$x$\", zorder=1)\n",
    "\n",
    "plt.title(\"Linear regression model\")\n",
    "plt.legend(title=\"Best-fit line\", loc=\"upper left\", shadow=True)\n",
    "\n",
    "plt.xlabel(\"$x$\")\n",
    "plt.ylabel(\"$t$\", rotation=0)\n",
    "\n",
    "plt.axis([0, 2, 0, 15])\n",
    "plt.grid(linestyle=\"--\", alpha=0.4)\n",
    "plt.show()"
   ]
  },
  {
   "cell_type": "code",
   "execution_count": null,
   "metadata": {},
   "outputs": [],
   "source": []
  }
 ],
 "metadata": {
  "kernelspec": {
   "display_name": "Python 3",
   "language": "python",
   "name": "python3"
  },
  "language_info": {
   "codemirror_mode": {
    "name": "ipython",
    "version": 3
   },
   "file_extension": ".py",
   "mimetype": "text/x-python",
   "name": "python",
   "nbconvert_exporter": "python",
   "pygments_lexer": "ipython3",
   "version": "3.10.11"
  },
  "orig_nbformat": 4
 },
 "nbformat": 4,
 "nbformat_minor": 2
}
