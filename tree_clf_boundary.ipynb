{
 "cells": [
  {
   "cell_type": "code",
   "execution_count": null,
   "metadata": {
    "canvas": {
     "comments": [],
     "componentType": "CodeCell",
     "copiedOriginId": null,
     "diskcache": false,
     "headerColor": "none",
     "id": "ee8cd1f7-7600-4674-b50d-35f80e019473",
     "isComponent": false,
     "name": "",
     "parents": []
    },
    "tags": []
   },
   "outputs": [],
   "source": [
    "import numpy as np\n",
    "import pandas as pd\n",
    "import matplotlib.pyplot as plt\n",
    "from matplotlib.colors import ListedColormap\n",
    "import matplotlib.patches as mpatches\n",
    "\n",
    "from sklearn.datasets import load_iris\n",
    "from sklearn.datasets import make_moons\n",
    "from sklearn.model_selection import train_test_split\n",
    "\n",
    "from mpitree.decision_tree import DecisionTreeClassifier\n",
    "\n",
    "np.random.seed = 42"
   ]
  },
  {
   "cell_type": "code",
   "execution_count": null,
   "metadata": {},
   "outputs": [],
   "source": [
    "iris = load_iris()\n",
    "X_train, X_test, y_train, y_test = train_test_split(\n",
    "    iris.data[:, :2], iris.target, test_size=0.2, random_state=42\n",
    ")"
   ]
  },
  {
   "cell_type": "code",
   "execution_count": null,
   "metadata": {},
   "outputs": [],
   "source": [
    "def plot_decision_tree_clf_boundary(clf, X, y, /, *, feature_names=None, lim=None):\n",
    "    h = 0.02\n",
    "\n",
    "    cmap_light = ListedColormap([\"#4993c3\", \"#e73031\", \"#e3c471\"])\n",
    "    cmap_bold = ListedColormap([\"#0000ec\", \"#ff0000\", \"#bfbf00\"])\n",
    "\n",
    "    if feature_names is None:\n",
    "        feature_names = list(map(str, range(X.ndim)))\n",
    "\n",
    "    # Plot the decision boundary. For that, we will assign a color to each\n",
    "    # point in the mesh [x_min, x_max] x [y_min, y_max].\n",
    "    x_min, x_max = X[:, 0].min() - 1, X[:, 0].max() + 1\n",
    "    y_min, y_max = X[:, 1].min() - 1, X[:, 1].max() + 1\n",
    "\n",
    "    xx, yy = np.meshgrid(np.arange(x_min, x_max, h), np.arange(y_min, y_max, h))\n",
    "    X_t = pd.DataFrame(np.c_[xx.ravel(), yy.ravel()], columns=feature_names)\n",
    "\n",
    "    Z = np.array([clf.predict(X_t.iloc[x]) for x in range(len(X_t))])\n",
    "    Z = Z.reshape(xx.shape)\n",
    "\n",
    "    plt.figure()\n",
    "    plt.pcolormesh(xx, yy, Z, cmap=cmap_light)\n",
    "\n",
    "    # Plot the training points\n",
    "    plt.scatter(\n",
    "        X[:, 0],\n",
    "        X[:, 1],\n",
    "        c=y,\n",
    "        cmap=cmap_bold,\n",
    "        edgecolors=\"black\",\n",
    "        linewidths=1.5,\n",
    "    )\n",
    "\n",
    "    if lim is None:\n",
    "        plt.xlim(xx.min(), xx.max())\n",
    "        plt.ylim(yy.min(), yy.max())\n",
    "    else:\n",
    "        plt.xlim(*lim[0])\n",
    "        plt.ylim(*lim[1])\n",
    "\n",
    "    plt.title(\"Decision Tree Classifier\")\n",
    "    plt.xlabel(feature_names[0])\n",
    "    plt.ylabel(feature_names[1])\n",
    "\n",
    "    plt.show()"
   ]
  },
  {
   "cell_type": "code",
   "execution_count": null,
   "metadata": {
    "canvas": {
     "comments": [],
     "componentType": "CodeCell",
     "copiedOriginId": null,
     "diskcache": false,
     "headerColor": "none",
     "id": "ee8cd1f7-7600-4674-b50d-35f80e019473",
     "isComponent": false,
     "name": "",
     "parents": []
    },
    "tags": []
   },
   "outputs": [],
   "source": [
    "clf = DecisionTreeClassifier(criterion={\"max_depth\": 3}).fit(X_train, y_train)\n",
    "print(clf)\n",
    "\n",
    "train_score, test_score = clf.score(X_train, y_train), clf.score(X_test, y_test)\n",
    "print(f\"\\nTrain-Test Accuracy: ({train_score:.2%}, {test_score:.2%})\")"
   ]
  },
  {
   "cell_type": "code",
   "execution_count": null,
   "metadata": {},
   "outputs": [],
   "source": [
    "h = 0.02  # step size in the mesh\n",
    "\n",
    "a = \"#4993c3\"\n",
    "b = \"#e73031\"\n",
    "c = \"#e3c471\"\n",
    "\n",
    "aa = \"#0000ec\"\n",
    "bb = \"#ff0000\"\n",
    "cc = \"#bfbf00\"\n",
    "\n",
    "# Create color maps\n",
    "cmap_light = ListedColormap([a, b, c])\n",
    "cmap_bold = ListedColormap([aa, bb, cc])\n",
    "\n",
    "fig = plt.figure()\n",
    "gs = fig.add_gridspec(2, 2, hspace=0, wspace=0)\n",
    "(ax1, ax2), (ax3, ax4) = gs.subplots(sharex=\"col\", sharey=\"row\")\n",
    "\n",
    "depths = [1, 3, 5, np.inf]\n",
    "coor = [ax1, ax2, ax3, ax4]\n",
    "\n",
    "for depth, ax in zip(depths, coor):\n",
    "    clf = DecisionTreeClassifier(criterion={\"max_depth\": depth}).fit(X_train, y_train)\n",
    "\n",
    "    x_min, x_max = (\n",
    "        X_train[:, 0].min() - 1,\n",
    "        X_train[:, 0].max() + 1,\n",
    "    )\n",
    "    y_min, y_max = (\n",
    "        X_train[:, 1].min() - 1,\n",
    "        X_train[:, 1].max() + 1,\n",
    "    )\n",
    "    xx, yy = np.meshgrid(np.arange(x_min, x_max, h), np.arange(y_min, y_max, h))\n",
    "    X_t = pd.DataFrame(np.c_[xx.ravel(), yy.ravel()], columns=[\"0\", \"1\"])\n",
    "    Z = np.array([clf.predict(X_t.iloc[x]) for x in range(len(X_t))])\n",
    "\n",
    "    Z = Z.reshape(xx.shape)\n",
    "    ax.pcolormesh(xx, yy, Z, cmap=cmap_light)\n",
    "\n",
    "    ax.scatter(\n",
    "        X_train[:, 0],\n",
    "        X_train[:, 1],\n",
    "        c=y_train,\n",
    "        cmap=cmap_bold,\n",
    "        s=15,\n",
    "        edgecolors=\"black\",\n",
    "        label=f\"Depth={depth}\",\n",
    "    )\n",
    "    ax.set_xlim(xx.min(), xx.max())\n",
    "    ax.set_ylim(yy.min(), yy.max())\n",
    "\n",
    "    if depth == 3:\n",
    "        patches = [\n",
    "            mpatches.Patch(color=aa, label=\"iris setosa\"),\n",
    "            mpatches.Patch(color=bb, label=\"iris versicolor\"),\n",
    "            mpatches.Patch(color=cc, label=\"iris virginica\"),\n",
    "        ]\n",
    "        handles, labels = ax.get_legend_handles_labels()\n",
    "        ax.legend(handles=patches, prop={\"size\": 6})\n",
    "\n",
    "fig.supxlabel(\"sepal length (cm)\")\n",
    "fig.supylabel(\"sepal width (cm)\")\n",
    "\n",
    "plt.show()"
   ]
  },
  {
   "cell_type": "code",
   "execution_count": null,
   "metadata": {},
   "outputs": [],
   "source": [
    "X, y = make_moons(n_samples=1000, noise=0.065)\n",
    "\n",
    "X_train, X_test, y_train, y_test = train_test_split(\n",
    "    X, y, test_size=0.2, random_state=42\n",
    ")"
   ]
  },
  {
   "cell_type": "code",
   "execution_count": null,
   "metadata": {},
   "outputs": [],
   "source": [
    "clf = DecisionTreeClassifier().fit(X_train, y_train)\n",
    "print(clf)\n",
    "\n",
    "train_score, test_score = clf.score(X_train, y_train), clf.score(X_test, y_test)\n",
    "print(f\"\\nTrain-Test Accuracy: ({train_score:.2%}, {test_score:.2%})\")"
   ]
  },
  {
   "cell_type": "code",
   "execution_count": null,
   "metadata": {},
   "outputs": [],
   "source": [
    "plot_decision_tree_clf_boundary(clf, X_train, y_train)\n",
    "\n",
    "# ..ref: https://www.ibm.com/docs/en/pessl/5.3.0?topic=distributions-distribution-techniques"
   ]
  }
 ],
 "metadata": {
  "canvas": {
   "colorPalette": [
    "inherit",
    "inherit",
    "inherit",
    "inherit",
    "inherit",
    "inherit",
    "inherit",
    "inherit",
    "inherit",
    "inherit"
   ],
   "parameters": []
  },
  "kernelspec": {
   "display_name": "Python 3 (ipykernel)",
   "language": "python",
   "name": "python3"
  },
  "language_info": {
   "codemirror_mode": {
    "name": "ipython",
    "version": 3
   },
   "file_extension": ".py",
   "mimetype": "text/x-python",
   "name": "python",
   "nbconvert_exporter": "python",
   "pygments_lexer": "ipython3",
   "version": "3.11.3"
  },
  "vscode": {
   "interpreter": {
    "hash": "31f2aee4e71d21fbe5cf8b01ff0e069b9275f58929596ceb00d14d90e3e16cd6"
   }
  }
 },
 "nbformat": 4,
 "nbformat_minor": 4
}
